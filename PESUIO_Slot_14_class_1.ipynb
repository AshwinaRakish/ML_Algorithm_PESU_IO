{
  "nbformat": 4,
  "nbformat_minor": 0,
  "metadata": {
    "colab": {
      "provenance": [],
      "collapsed_sections": []
    },
    "kernelspec": {
      "name": "python3",
      "display_name": "Python 3"
    },
    "language_info": {
      "name": "python"
    }
  },
  "cells": [
    {
      "cell_type": "markdown",
      "source": [
        "Welcome to the first class of undersanding ML algorithms\n",
        "Today you will get yourselves familiar with python and essentially get to dive into the basics of some libraries that you will be learning about throughout this course."
      ],
      "metadata": {
        "id": "uxWHk4LP14P2"
      }
    },
    {
      "cell_type": "markdown",
      "source": [
        "The Most basic Hello World program:"
      ],
      "metadata": {
        "id": "4TUobwcn2cvz"
      }
    },
    {
      "cell_type": "code",
      "source": [
        "print(\"Hello World!\")"
      ],
      "metadata": {
        "colab": {
          "base_uri": "https://localhost:8080/"
        },
        "id": "hE7C8tL22lmD",
        "outputId": "f678a412-1ed0-4264-b3ae-61043686f1e2"
      },
      "execution_count": 1,
      "outputs": [
        {
          "output_type": "stream",
          "name": "stdout",
          "text": [
            "Hello World!\n"
          ]
        }
      ]
    },
    {
      "cell_type": "markdown",
      "source": [
        "Concept of variables and data types :\n",
        "EXERCISE: A travel company wants to fly a plane to the Bahamas. Flying the plane costs 5000 dollars. So far, 29 people have signed up for the trip. If the company charges 200 dollars per ticket, what is the profit made by the company? Create variables for each numeric quantity and use appropriate arithmetic operations."
      ],
      "metadata": {
        "id": "ovKfTdej2B9R"
      }
    },
    {
      "cell_type": "code",
      "source": [
        "profit=29*200-5000\n",
        "print(profit)"
      ],
      "metadata": {
        "id": "vxkFv26E23qA",
        "colab": {
          "base_uri": "https://localhost:8080/"
        },
        "outputId": "57d91a19-ad37-4479-ec49-422001c24512"
      },
      "execution_count": 2,
      "outputs": [
        {
          "output_type": "stream",
          "name": "stdout",
          "text": [
            "800\n"
          ]
        }
      ]
    },
    {
      "cell_type": "markdown",
      "source": [
        "Concept of a conditional statement or a set of conditional statements and cases :\n",
        "Write a code snippet which evaluates whether a number is a multiple of just 2 , just 3 , or both 2 and 3 (multiple of 6)"
      ],
      "metadata": {
        "id": "xjAB_LDJ24I3"
      }
    },
    {
      "cell_type": "code",
      "source": [
        "#use if-else statements and print out the required information:\n",
        "num= 12\n",
        "if num%6==0:\n",
        "  print(\"divisible by 6\")\n",
        "elif num%3==0:\n",
        "  print(\"divisible by 3\")\n",
        "else:\n",
        "  print(\"divisible by 2\")\n",
        "\n",
        "#complete this area"
      ],
      "metadata": {
        "id": "m_ZVPJuN3AXP",
        "colab": {
          "base_uri": "https://localhost:8080/"
        },
        "outputId": "1ad5c0a7-a872-4bb8-fe35-67c463822e72"
      },
      "execution_count": 3,
      "outputs": [
        {
          "output_type": "stream",
          "name": "stdout",
          "text": [
            "divisible by 6\n"
          ]
        }
      ]
    },
    {
      "cell_type": "markdown",
      "source": [
        "Concept of loops:\n",
        "Write a program to count the number of vowels in the given string:\n",
        "ANTIESTABLISHMENTARIANISTICALLY"
      ],
      "metadata": {
        "id": "O2bGzmzO3s9L"
      }
    },
    {
      "cell_type": "code",
      "source": [
        "word='ANTIESTABLISHMENTARIANISTICALLY'\n",
        "cnt=0\n",
        "for i in word:\n",
        "  cnt=cnt+1\n",
        "print(cnt)"
      ],
      "metadata": {
        "id": "4g7drYH83vYE",
        "colab": {
          "base_uri": "https://localhost:8080/"
        },
        "outputId": "2e842f63-3a78-419c-c06e-4c57207c0638"
      },
      "execution_count": 4,
      "outputs": [
        {
          "output_type": "stream",
          "name": "stdout",
          "text": [
            "31\n"
          ]
        }
      ]
    },
    {
      "cell_type": "markdown",
      "source": [
        "learning what each data- structure in python does and using all their functions:\n"
      ],
      "metadata": {
        "id": "e4Vc9Nw84bD5"
      }
    },
    {
      "cell_type": "markdown",
      "source": [
        "LISTS AND ITS FUNCTIONALITY:"
      ],
      "metadata": {
        "id": "OaEbJ_LY4joh"
      }
    },
    {
      "cell_type": "code",
      "source": [
        "#Define a random list of fruits \n",
        "l1=['apple','mango','banana']\n",
        "#iterate over the list and find the name of the fruit which has the smallest word length\n",
        "min=l1[0]\n",
        "for i in l1:\n",
        "  if len(i)<len(min):\n",
        "    min=i \n",
        "print(min) \n",
        "# append a vegetable to your existing list\n",
        "l1.append('cherry')\n",
        "# find the size of your list\n",
        "print(len(l1))\n",
        "# add enough fruits such that your list size if greater than 4\n",
        "l1.append('strawberry')\n",
        "# delete the 2nd fruit(1st index) from your list:\n",
        "l1.pop(1)\n",
        "# add your name in the 4th position of the list (3rd index)\n",
        "l1.insert(3,'Ash')\n",
        "for i in l1:\n",
        "  print(i)\n",
        "#have fun and try out any 4-5 pre-defined functions on a list as seen in the python list documentation\n",
        "l2=l1.copy()\n",
        "print(l2)\n",
        "l2.clear()\n",
        "print(l2)\n",
        "x = l1.index(\"cherry\")\n",
        "print(x)\n",
        "l1.reverse()\n",
        "print(l1)\n",
        "l1.sort()\n",
        "print(l1)"
      ],
      "metadata": {
        "id": "rjle8Jat4n7b",
        "colab": {
          "base_uri": "https://localhost:8080/"
        },
        "outputId": "2df493ce-c442-4bf9-c444-98e3074bf421"
      },
      "execution_count": 34,
      "outputs": [
        {
          "output_type": "stream",
          "name": "stdout",
          "text": [
            "apple\n",
            "4\n",
            "apple\n",
            "banana\n",
            "cherry\n",
            "Ash\n",
            "strawberry\n",
            "['apple', 'banana', 'cherry', 'Ash', 'strawberry']\n",
            "[]\n",
            "2\n",
            "['strawberry', 'Ash', 'cherry', 'banana', 'apple']\n",
            "['Ash', 'apple', 'banana', 'cherry', 'strawberry']\n"
          ]
        }
      ]
    },
    {
      "cell_type": "markdown",
      "source": [
        "TUPLES AND ITS FUNCTIONALITY:"
      ],
      "metadata": {
        "id": "IAYs58gx4oWB"
      }
    },
    {
      "cell_type": "code",
      "source": [
        "#create abd tuple and print its elements \n",
        "t1=(1,7,2,5,3,8,2)\n",
        "#print the type of each value in the tuple\n",
        "for i in t1:\n",
        "  print(type(i))\n",
        "#try to change the seconf value in your tuple to \"Caterpillar\"\n",
        "#t1[1]='Caterpillar' #Giving an error\n",
        "# print the last element of the tuple without using the length of the tuple\n",
        "last=''\n",
        "for i in t1:\n",
        " last=i\n",
        "print(last)\n",
        "# slicing is an IMPORTANT concept in python especially since you will all be working on huge amounts of data so try different options\n",
        "# print(a[-2:]), print([:3]) etc...\n",
        "print(t1[-2:])\n",
        "print(t1[:3])\n",
        "print(t1[1:3])\n",
        "print(t1[::-1])\n",
        "\n",
        "#sort vs sorted function: find the difference in the form of a program:\n",
        "t2 = tuple(sorted(t1))\n"
      ],
      "metadata": {
        "id": "KquFBYey4qzu",
        "colab": {
          "base_uri": "https://localhost:8080/"
        },
        "outputId": "6b6efda3-9804-4329-8b5b-539243ae90c7"
      },
      "execution_count": 30,
      "outputs": [
        {
          "output_type": "stream",
          "name": "stdout",
          "text": [
            "<class 'int'>\n",
            "<class 'int'>\n",
            "<class 'int'>\n",
            "<class 'int'>\n",
            "<class 'int'>\n",
            "<class 'int'>\n",
            "<class 'int'>\n",
            "2\n",
            "(8, 2)\n",
            "(1, 7, 2)\n",
            "(7, 2)\n",
            "(2, 8, 3, 5, 2, 7, 1)\n"
          ]
        }
      ]
    },
    {
      "cell_type": "markdown",
      "source": [
        "SETS AND ITS FUNCTIONALITY:"
      ],
      "metadata": {
        "id": "P3xn-gIL4rS6"
      }
    },
    {
      "cell_type": "code",
      "source": [
        "#explore the properties of set and after doing that solve this little puzzle below:\n",
        "s1={1,3,2}\n",
        "s1.add(4)\n",
        "s2={5,2,7,1}\n",
        "s3=s2.difference(s1)\n",
        "print(s3)\n",
        "s3=s2.intersection(s1)\n",
        "print(s3)"
      ],
      "metadata": {
        "id": "RlURFwFx4viZ",
        "colab": {
          "base_uri": "https://localhost:8080/"
        },
        "outputId": "49d64cdf-f027-4860-8ad0-a3c78f447e05"
      },
      "execution_count": 31,
      "outputs": [
        {
          "output_type": "stream",
          "name": "stdout",
          "text": [
            "{5, 7}\n",
            "{1, 2}\n"
          ]
        }
      ]
    },
    {
      "cell_type": "markdown",
      "source": [
        "Ana is a data-scientist  who just started her career in Meta, however she needs to find the existance of new words on facebook hashtags and find the numbre of unique such words which need to be added to the existing facebook hastag library:\n",
        "\n",
        "facebook hastag library : [\"ootd\", \"lol\", \"ffs\", \"asap\"]\n",
        "daily facebook hastag words string: \" rofl lol macha bob ootd asap fun sweet16 ffs lol asap ootd ffs macha rofl bob ootd fun candid anime happyhours bob fun happyhours\"\n",
        "You will need to indivitually extract the words from the string and then solve this problem ?? How are you going to do that ? \n",
        "# Reading documentation should become a habit ....."
      ],
      "metadata": {
        "id": "na8tI4EH70Lt"
      }
    },
    {
      "cell_type": "code",
      "source": [
        "from re import L\n",
        "#solve the above problem and help ana do her work she may even hire you as her assistant!!!\n",
        "str1=\"rofl lol macha bob ootd asap fun sweet16 ffs lol asap ootd ffs macha rofl bob ootd fun candid anime happyhours bob fun happyhours\"\n",
        "l1=str1.split()\n",
        "s1=set()\n",
        "for i in l1:\n",
        "  s1.add(i)\n",
        "for i in s1:\n",
        "  print(i)"
      ],
      "metadata": {
        "id": "0ww7Zs5BBiBQ",
        "colab": {
          "base_uri": "https://localhost:8080/"
        },
        "outputId": "ce7f70f1-c106-4e2b-92b6-d1f8e9c8ce56"
      },
      "execution_count": 32,
      "outputs": [
        {
          "output_type": "stream",
          "name": "stdout",
          "text": [
            "asap\n",
            "ffs\n",
            "bob\n",
            "anime\n",
            "fun\n",
            "happyhours\n",
            "sweet16\n",
            "rofl\n",
            "candid\n",
            "lol\n",
            "macha\n",
            "ootd\n"
          ]
        }
      ]
    },
    {
      "cell_type": "markdown",
      "source": [
        "DICTIONARIES AND ITS FUNCTIONALITY:"
      ],
      "metadata": {
        "id": "kMmUm2qI4wBP"
      }
    },
    {
      "cell_type": "code",
      "source": [
        "#explore the usage of dictionaries because it is literally so useful when in comes data science\n",
        "#a lot of the data you will be using will be as key-value pairs \n"
      ],
      "metadata": {
        "id": "oR-54dFT4zYN"
      },
      "execution_count": null,
      "outputs": []
    },
    {
      "cell_type": "markdown",
      "source": [
        "Given an unsorted list of some elements(may or may not be integers), Find the frequency of each distinct element in the list using a dictionary. \n",
        "Input : [1, 1, 1, 5, 5, 3, 1, 3, 3, 1,\n",
        "                  4, 4, 4, 2, 2, 2, 2]\n",
        "\n",
        "Output : 1 : 5\n",
        "         2 : 4\n",
        "         3 : 3\n",
        "         4 : 3\n",
        "         5 : 2\n",
        "\n"
      ],
      "metadata": {
        "id": "V-iZrEMlE30W"
      }
    },
    {
      "cell_type": "code",
      "source": [
        "# Python program to count the frequency of\n",
        "# elements in a list using a dictionary\n",
        " \n",
        "def CountFrequency(my_list):\n",
        " \n",
        "    # Creating an empty dictionary\n",
        "    freq = {}\n",
        "    #------fill your code here-----------------\n",
        "    for i in my_list:\n",
        "      if i in freq:\n",
        "        freq[i]=freq[i]+1\n",
        "      else:\n",
        "        freq[i]=1\n",
        "    for i in freq:\n",
        "      print(i,\" : \",freq[i])\n",
        "# Driver function\n",
        "if __name__ == \"__main__\":\n",
        "    my_list =[1, 1, 1, 5, 5, 3, 1, 3, 3, 1, 4, 4, 4, 2, 2, 2, 2]\n",
        " \n",
        "    CountFrequency(my_list)"
      ],
      "metadata": {
        "id": "dPP6aUJaFbbv",
        "colab": {
          "base_uri": "https://localhost:8080/"
        },
        "outputId": "512294aa-f057-47ad-d179-c14214f46d19"
      },
      "execution_count": null,
      "outputs": [
        {
          "output_type": "stream",
          "name": "stdout",
          "text": [
            "1  :  5\n",
            "5  :  2\n",
            "3  :  3\n",
            "4  :  3\n",
            "2  :  4\n"
          ]
        }
      ]
    },
    {
      "cell_type": "markdown",
      "source": [
        "Now that you have finished this basics exercise in python We shall now play in teams and winning Team doesn't get homework today !"
      ],
      "metadata": {
        "id": "7AoTxECAFvfc"
      }
    }
  ]
}